{
 "cells": [
  {
   "cell_type": "markdown",
   "metadata": {},
   "source": [
    "Before you turn this problem in, make sure everything runs as expected. First, **restart the kernel** (in the menubar, select Kernel$\\rightarrow$Restart) and then **run all cells** (in the menubar, select Cell$\\rightarrow$Run All).\n",
    "\n",
    "Make sure you fill in any place that says `YOUR CODE HERE` or \"YOUR ANSWER HERE\", as well as your name and collaborators below:"
   ]
  },
  {
   "cell_type": "code",
   "execution_count": 1,
   "metadata": {},
   "outputs": [],
   "source": [
    "NAME = \"Roope Niemi\""
   ]
  },
  {
   "cell_type": "markdown",
   "metadata": {},
   "source": [
    "---"
   ]
  },
  {
   "cell_type": "markdown",
   "metadata": {
    "deletable": false,
    "editable": false,
    "nbgrader": {
     "cell_type": "markdown",
     "checksum": "d4f2a9a3135e9e1e2394550af72a2c36",
     "grade": false,
     "grade_id": "cell-7f2cae05492e6bb6",
     "locked": true,
     "schema_version": 3,
     "solution": false,
     "task": false
    }
   },
   "source": [
    "For this problem set, we'll be using the Jupyter notebook:\n",
    "\n",
    "![](jupyter.png)"
   ]
  },
  {
   "cell_type": "markdown",
   "metadata": {
    "deletable": false,
    "editable": false,
    "nbgrader": {
     "cell_type": "markdown",
     "checksum": "e34ac3f62321e2ef28762e28cf1f2443",
     "grade": false,
     "grade_id": "cell-bab5d9941b66afa2",
     "locked": true,
     "schema_version": 3,
     "solution": false,
     "task": false
    }
   },
   "source": [
    "## Structured Streaming exercises\n",
    "\n",
    "In this problem set you will use structured streaming to analyze made-up trail camera data. We will simulate real-time streaming by having multiple data files and loading them one by one.\n",
    "\n",
    "https://spark.apache.org/docs/latest/structured-streaming-programming-guide.html\n",
    "\n"
   ]
  },
  {
   "cell_type": "code",
   "execution_count": 2,
   "metadata": {
    "deletable": false,
    "editable": false,
    "nbgrader": {
     "cell_type": "code",
     "checksum": "fe1fbfc4dee99cacf13c6425cebcdccf",
     "grade": false,
     "grade_id": "cell-45313625bf65eeee",
     "locked": true,
     "schema_version": 3,
     "solution": false,
     "task": false
    }
   },
   "outputs": [],
   "source": [
    "from pyspark.sql import SparkSession, Row\n",
    "import pyspark.sql\n",
    "import json\n",
    "from pyspark.sql.types import *\n",
    "import time\n",
    "from IPython.display import display, clear_output\n",
    "import pandas as pd\n",
    "\n",
    "spark = SparkSession \\\n",
    "    .builder \\\n",
    "    .appName(\"StructuredStreaming\") \\\n",
    "    .getOrCreate()\n",
    "\n",
    "path = \"data/\""
   ]
  },
  {
   "cell_type": "markdown",
   "metadata": {
    "deletable": false,
    "editable": false,
    "nbgrader": {
     "cell_type": "markdown",
     "checksum": "3f7edb5fd66706697afb2bc621de5b66",
     "grade": false,
     "grade_id": "cell-de5e235299290c20",
     "locked": true,
     "schema_version": 3,
     "solution": false,
     "task": false
    }
   },
   "source": [
    "## Load data\n",
    "\n",
    "First we'll start with normal dataframe exercises. Create a method that loads the trail camera data into a dataframe. The data is in JSON format. You might have to specify the schema with the StructType methods. The dataframe will have null values called 'null', you can either remove them or leave them be. This dataframe simulates the input dataframe that we will use for streaming.\n",
    "\n",
    "param `path`: path to the JSON dataset.\n",
    "\n",
    "`return`: dataframe containing trail camera information.\n",
    "\n",
    "schema:\n",
    "\n",
    "Name | Type\n",
    "------| :-----\n",
    "time  | Timestamp (nullable = true)\n",
    "animal_name | String (nullable = true)\n",
    "weather | String (nullable = true)\n",
    "battery | Double (nullable = true)"
   ]
  },
  {
   "cell_type": "code",
   "execution_count": 3,
   "metadata": {
    "deletable": false,
    "nbgrader": {
     "cell_type": "code",
     "checksum": "881d43c4a14b7ce6557b05b0763e87aa",
     "grade": false,
     "grade_id": "cell-6b0ed104e544111a",
     "locked": false,
     "schema_version": 3,
     "solution": true,
     "task": false
    }
   },
   "outputs": [],
   "source": [
    "# Create DataFrame representing data in the JSON files\n",
    "sc = pyspark.SparkContext.getOrCreate()\n",
    "def loadData(path):    \n",
    "    # YOUR CODE HERE\n",
    "    df = spark.read.json(sc.textFile(path)).drop(\"_corrupt_record\")\n",
    "    return df.select(df.time.cast('timestamp'), df.animal_name, df.weather, df.battery.cast('double')).where((df.time.isNotNull()) & (df.animal_name.isNotNull()) & (df.weather.isNotNull()) & (df.battery.isNotNull()))"
   ]
  },
  {
   "cell_type": "code",
   "execution_count": 4,
   "metadata": {},
   "outputs": [
    {
     "name": "stdout",
     "output_type": "stream",
     "text": [
      "+-------------------+-----------+-------+-------+\n",
      "|               time|animal_name|weather|battery|\n",
      "+-------------------+-----------+-------+-------+\n",
      "|2019-08-13 19:13:18|     Rabbit|  Clear|   66.0|\n",
      "|2020-01-18 10:27:10|   Squirrel|  Clear|   60.0|\n",
      "|2020-01-08 23:08:22|   Squirrel| Cloudy|   42.0|\n",
      "|2020-05-03 02:35:34|     Rabbit|  Clear|   33.0|\n",
      "|2019-06-09 20:07:34|     Rabbit| Cloudy|   68.0|\n",
      "|2020-04-30 22:39:53|   Squirrel|  Clear|   20.0|\n",
      "|2019-07-12 15:10:56|   Squirrel|  Clear|   51.0|\n",
      "|2020-01-01 22:47:46|       Deer|  Rainy|   65.0|\n",
      "|2019-09-11 13:45:03|     Rabbit|  Clear|   69.0|\n",
      "|2020-01-19 11:45:41|   Squirrel|  Storm|   83.0|\n",
      "|2019-12-16 22:15:37|       Wolf|  Clear|   42.0|\n",
      "|2019-11-18 07:01:59|     Rabbit|  Clear|   17.0|\n",
      "|2019-06-18 10:10:17|     Rabbit| Cloudy|   11.0|\n",
      "|2020-05-31 18:43:44|   Squirrel|  Clear|   85.0|\n",
      "|2020-06-03 19:08:20|   Squirrel|  Clear|   29.0|\n",
      "|2020-01-22 07:20:50|   Squirrel|  Rainy|   81.0|\n",
      "|2020-07-30 09:19:45|     Rabbit| Cloudy|   22.0|\n",
      "|2019-09-10 13:03:02|     Rabbit|  Clear|   35.0|\n",
      "|2019-12-02 12:47:06|     Rabbit|  Clear|   50.0|\n",
      "|2019-10-04 23:01:21|       Wolf| Cloudy|    1.0|\n",
      "+-------------------+-----------+-------+-------+\n",
      "only showing top 20 rows\n",
      "\n"
     ]
    }
   ],
   "source": [
    "#example print\n",
    "loadData(path).show()"
   ]
  },
  {
   "cell_type": "code",
   "execution_count": 5,
   "metadata": {
    "deletable": false,
    "editable": false,
    "nbgrader": {
     "cell_type": "code",
     "checksum": "e16bbd8facdcec0c0e2579c86d6bffa9",
     "grade": true,
     "grade_id": "cell-23cda96e1af452c0",
     "locked": true,
     "points": 1,
     "schema_version": 3,
     "solution": false,
     "task": false
    }
   },
   "outputs": [],
   "source": [
    "'''loadData tests'''\n",
    "\n",
    "cols = StructType([ StructField(\"time\", TimestampType(), True),\n",
    "                    StructField(\"animal_name\", StringType(), True),\n",
    "                    StructField(\"weather\", StringType(), True),\n",
    "                    StructField(\"battery\", DoubleType(), True)])\n",
    "\n",
    "\n",
    "from datetime import datetime\n",
    "testTs = datetime(2020, 1, 1)\n",
    "\n",
    "fakeData = [(testTs, \"dog\", \"cloudy\", 100.0)]\n",
    "\n",
    "fakeDf = spark.createDataFrame(fakeData, cols)\n",
    "\n",
    "df = loadData(path)\n",
    "\n",
    "assert df.dtypes == fakeDf.dtypes, \"the schema was expected to be %s but it was %s\" % (fakeDf.dtypes, df.dtypes)\n"
   ]
  },
  {
   "cell_type": "markdown",
   "metadata": {
    "deletable": false,
    "editable": false,
    "nbgrader": {
     "cell_type": "markdown",
     "checksum": "73db5636e96710521959e47c330f783e",
     "grade": false,
     "grade_id": "cell-5634898feaf9bf39",
     "locked": true,
     "schema_version": 3,
     "solution": false,
     "task": false
    }
   },
   "source": [
    "## Animal count\n",
    "\n",
    "Next we will simulate the output dataframe that we will use for streaming. Create a method that counts the number of appearences for each animal. The dataframe should be sorted by count in descending order. You should remove the null rows now if you didn't do it in the last method.\n",
    "\n",
    "param `df`: trail camera dataframe created using `loadData`.\n",
    "\n",
    "`return`: dataframe containing number of appearences per animal. The dataframe should include columns \"animal_name\" and \"count\". \"count\"  should be in Long format, it should happen automatically with spark functions. The dataframe must not include count for null values.\n",
    "\n",
    "example output:\n",
    "\n",
    "animal_name|count\n",
    "-------:|-----\n",
    "Dog| 1234|\n",
    "Cat| 1111|\n",
    "Mouse| 999|"
   ]
  },
  {
   "cell_type": "code",
   "execution_count": 6,
   "metadata": {
    "deletable": false,
    "nbgrader": {
     "cell_type": "code",
     "checksum": "a3549ed5221081c067054be0eb92d791",
     "grade": false,
     "grade_id": "cell-7200a4dc05503fec",
     "locked": false,
     "schema_version": 3,
     "solution": true,
     "task": false
    }
   },
   "outputs": [],
   "source": [
    "from pyspark.sql.functions import *\n",
    "def animalCount(df):    \n",
    "    # YOUR CODE HERE\n",
    "    return df.select(df.animal_name).groupBy(df.animal_name).count().sort(desc(\"count\"))"
   ]
  },
  {
   "cell_type": "code",
   "execution_count": 7,
   "metadata": {},
   "outputs": [
    {
     "name": "stdout",
     "output_type": "stream",
     "text": [
      "+-----------+-----+\n",
      "|animal_name|count|\n",
      "+-----------+-----+\n",
      "|     Rabbit| 1187|\n",
      "|   Squirrel| 1147|\n",
      "|       Deer|  351|\n",
      "|       Bear|  119|\n",
      "|       Wolf|  111|\n",
      "+-----------+-----+\n",
      "\n"
     ]
    }
   ],
   "source": [
    "#example print\n",
    "animalCount(loadData(path)).show()"
   ]
  },
  {
   "cell_type": "code",
   "execution_count": 8,
   "metadata": {
    "deletable": false,
    "editable": false,
    "nbgrader": {
     "cell_type": "code",
     "checksum": "efa10ff051866f89f08531ddb6399dd0",
     "grade": true,
     "grade_id": "cell-2f1a372bdc6469a8",
     "locked": true,
     "points": 1,
     "schema_version": 3,
     "solution": false,
     "task": false
    }
   },
   "outputs": [],
   "source": [
    "'''animalCount tests'''\n",
    "\n",
    "cols = StructType([ StructField(\"animal_name\", StringType(), True),\n",
    "                    StructField(\"count\", LongType(), False)])\n",
    "\n",
    "\n",
    "fakeData = [(\"dog\", 1)]\n",
    "\n",
    "fakeDf = spark.createDataFrame(fakeData, cols)\n",
    "\n",
    "df = animalCount(loadData(path))\n",
    "\n",
    "assert df.dtypes == fakeDf.dtypes, \"the schema was expected to be %s but it was %s\" % (fakeDf.dtypes, df.dtypes)\n",
    "\n",
    "assert df.count() == 5, \"the number of rows was expected to be 5 but it was %s\" % df.count()\n",
    "\n",
    "df = df.toPandas()\n",
    "\n",
    "assert df.loc[0][1] >= df.loc[1][1], \"the first item was expected to have higher count than the second\"\n",
    "assert df.loc[3][1] >= df.loc[4][1], \"the fourth item was expected to have higher count than the last\"\n",
    "assert df.loc[0][0] == \"Rabbit\", \"the first item was expected to be Rabbit but it was %s\" % df.loc[0][0]\n",
    "assert df.loc[4][0] == \"Wolf\", \"the last item was expected to be Wolf but it was %s\" % df.loc[4][0]\n"
   ]
  },
  {
   "cell_type": "markdown",
   "metadata": {
    "deletable": false,
    "editable": false,
    "nbgrader": {
     "cell_type": "markdown",
     "checksum": "b5f345af7e9f3a6f665df910a2172185",
     "grade": false,
     "grade_id": "cell-97647ea5af984e11",
     "locked": true,
     "schema_version": 3,
     "solution": false,
     "task": false
    }
   },
   "source": [
    "## inputDf\n",
    "\n",
    "Now we will finally do the streaming. First you should specify the schema for the input dataframe. The schema is the same as in the Load Data exercise. Then you should create the input dataframe with `spark.readStream` method. Remember to include the schema and the path. You will also have to include `.option(\"maxFilesPerTrigger\", 1)` so that we can simulate real-time streaming by loading one file at a time.\n",
    "\n",
    "param `path`: path to the JSON dataset.\n",
    "\n",
    "`return`: input dataframe containing trail camera information."
   ]
  },
  {
   "cell_type": "code",
   "execution_count": 9,
   "metadata": {
    "deletable": false,
    "nbgrader": {
     "cell_type": "code",
     "checksum": "0b279959bef32628916d5754f784cf92",
     "grade": false,
     "grade_id": "cell-6856edef4018385b",
     "locked": false,
     "schema_version": 3,
     "solution": true,
     "task": false
    }
   },
   "outputs": [],
   "source": [
    "def inputDf(path):    \n",
    "    # YOUR CODE HERE\n",
    "    userSchema = StructType([ StructField(\"time\", TimestampType(), True),\n",
    "                    StructField(\"animal_name\", StringType(), True),\n",
    "                    StructField(\"weather\", StringType(), True),\n",
    "                    StructField(\"battery\", DoubleType(), True)])\n",
    "    print(spark.readStream.option(\"maxFilesPerTrigger\", 1).schema(userSchema).json(path))\n",
    "    return spark.readStream.option(\"maxFilesPerTrigger\", 1).schema(userSchema).json(path)"
   ]
  },
  {
   "cell_type": "markdown",
   "metadata": {
    "deletable": false,
    "editable": false,
    "nbgrader": {
     "cell_type": "markdown",
     "checksum": "ddd2a8d6cebc27ff80ff38bff45eb159",
     "grade": false,
     "grade_id": "cell-527d914dbbb0585d",
     "locked": true,
     "schema_version": 3,
     "solution": false,
     "task": false
    }
   },
   "source": [
    "## outputDf\n",
    "\n",
    "Next you should create the output dataframe, similar to the Animal Count exercise. You will have to exclude the null values and sort the dataframe by count, descending order.\n",
    "\n",
    "param `inputDF`: input dataframe created by `inputDf()`.\n",
    "\n",
    "`return`: filtered and sorted dataframe containing the number of appearences per animal."
   ]
  },
  {
   "cell_type": "code",
   "execution_count": 10,
   "metadata": {
    "deletable": false,
    "nbgrader": {
     "cell_type": "code",
     "checksum": "b290e9ac2650733cc7e0a85440760f06",
     "grade": false,
     "grade_id": "cell-7a2b6affcb2a634d",
     "locked": false,
     "schema_version": 3,
     "solution": true,
     "task": false
    }
   },
   "outputs": [],
   "source": [
    "def outputDf(inputDF):    \n",
    "    # YOUR CODE HERE\n",
    "    return inputDF.select(inputDF.animal_name).where(inputDF.animal_name.isNotNull()).groupBy(inputDF.animal_name).count().sort(desc(\"count\"))\n",
    "    "
   ]
  },
  {
   "cell_type": "markdown",
   "metadata": {
    "deletable": false,
    "editable": false,
    "nbgrader": {
     "cell_type": "markdown",
     "checksum": "f5647344dda2b91bdd015760358f4990",
     "grade": false,
     "grade_id": "cell-48f8defd689bc680",
     "locked": true,
     "schema_version": 3,
     "solution": false,
     "task": false
    }
   },
   "source": [
    "## createQuery\n",
    "\n",
    "Finally, you should start streaming the output dataframe with the `writeStream` method. You will have to include the options `format`=\"memory\", `queryName`=\"counts\" and `outputMode`=\"complete\".\n",
    "\n",
    "param `outputDF`: output dataframe created by `outputDf()`.\n",
    "\n",
    "`return`: a query on the output dataframe"
   ]
  },
  {
   "cell_type": "code",
   "execution_count": 11,
   "metadata": {
    "deletable": false,
    "nbgrader": {
     "cell_type": "code",
     "checksum": "1bfac23b72e1e42d23635e0fadabc005",
     "grade": false,
     "grade_id": "cell-99580774911edd99",
     "locked": false,
     "schema_version": 3,
     "solution": true,
     "task": false
    }
   },
   "outputs": [],
   "source": [
    "def createQuery(outputDF):    \n",
    "    # YOUR CODE HERE\n",
    "    return outputDF.writeStream.format(\"memory\").queryName(\"counts\").outputMode(\"complete\").start()"
   ]
  },
  {
   "cell_type": "code",
   "execution_count": 12,
   "metadata": {
    "deletable": false,
    "editable": false,
    "nbgrader": {
     "cell_type": "code",
     "checksum": "3541a097e7b9f98300641f38a710043f",
     "grade": true,
     "grade_id": "cell-d6306f5d4ea1bb85",
     "locked": true,
     "points": 1,
     "schema_version": 3,
     "solution": false,
     "task": false
    }
   },
   "outputs": [
    {
     "name": "stdout",
     "output_type": "stream",
     "text": [
      "DataFrame[time: timestamp, animal_name: string, weather: string, battery: double]\n"
     ]
    },
    {
     "ename": "AssertionError",
     "evalue": "the number of rows was expected to be 5 when the streaming has been going for a while but it was 5",
     "output_type": "error",
     "traceback": [
      "\u001b[0;31m---------------------------------------------------------------------------\u001b[0m",
      "\u001b[0;31mAssertionError\u001b[0m                            Traceback (most recent call last)",
      "\u001b[0;32m<ipython-input-12-51f6a8471fd2>\u001b[0m in \u001b[0;36m<module>\u001b[0;34m\u001b[0m\n\u001b[1;32m     18\u001b[0m \u001b[0;32massert\u001b[0m \u001b[0mdf\u001b[0m\u001b[0;34m.\u001b[0m\u001b[0mcount\u001b[0m\u001b[0;34m(\u001b[0m\u001b[0;34m)\u001b[0m \u001b[0;34m==\u001b[0m \u001b[0;36m0\u001b[0m\u001b[0;34m,\u001b[0m \u001b[0;34m\"the number of rows was expected to be 0 when the streaming just started but it was %s\"\u001b[0m \u001b[0;34m%\u001b[0m \u001b[0mdf\u001b[0m\u001b[0;34m.\u001b[0m\u001b[0mcount\u001b[0m\u001b[0;34m(\u001b[0m\u001b[0;34m)\u001b[0m\u001b[0;34m\u001b[0m\u001b[0;34m\u001b[0m\u001b[0m\n\u001b[1;32m     19\u001b[0m \u001b[0mtime\u001b[0m\u001b[0;34m.\u001b[0m\u001b[0msleep\u001b[0m\u001b[0;34m(\u001b[0m\u001b[0;36m20\u001b[0m\u001b[0;34m)\u001b[0m\u001b[0;34m\u001b[0m\u001b[0;34m\u001b[0m\u001b[0m\n\u001b[0;32m---> 20\u001b[0;31m \u001b[0;32massert\u001b[0m \u001b[0mdf\u001b[0m\u001b[0;34m.\u001b[0m\u001b[0mcount\u001b[0m\u001b[0;34m(\u001b[0m\u001b[0;34m)\u001b[0m \u001b[0;34m==\u001b[0m \u001b[0;36m5\u001b[0m\u001b[0;34m,\u001b[0m \u001b[0;34m\"the number of rows was expected to be 5 when the streaming has been going for a while but it was %s\"\u001b[0m \u001b[0;34m%\u001b[0m \u001b[0mdf\u001b[0m\u001b[0;34m.\u001b[0m\u001b[0mcount\u001b[0m\u001b[0;34m(\u001b[0m\u001b[0;34m)\u001b[0m\u001b[0;34m\u001b[0m\u001b[0;34m\u001b[0m\u001b[0m\n\u001b[0m\u001b[1;32m     21\u001b[0m \u001b[0;34m\u001b[0m\u001b[0m\n\u001b[1;32m     22\u001b[0m \u001b[0mdf\u001b[0m \u001b[0;34m=\u001b[0m \u001b[0mdf\u001b[0m\u001b[0;34m.\u001b[0m\u001b[0mtoPandas\u001b[0m\u001b[0;34m(\u001b[0m\u001b[0;34m)\u001b[0m\u001b[0;34m\u001b[0m\u001b[0;34m\u001b[0m\u001b[0m\n",
      "\u001b[0;31mAssertionError\u001b[0m: the number of rows was expected to be 5 when the streaming has been going for a while but it was 5"
     ]
    }
   ],
   "source": [
    "'''streaming tests'''\n",
    "inputStreamDf = inputDf(path)\n",
    "outputStreamDf= outputDf(inputStreamDf)\n",
    "query = createQuery(outputStreamDf)\n",
    "\n",
    "assert outputStreamDf.isStreaming, \"the outputDF was expected to be streaming\"\n",
    "\n",
    "df = spark.sql(\"select * from counts\")\n",
    "\n",
    "assert df.dtypes == fakeDf.dtypes, \"the schema was expected to be %s but it was %s\" % (fakeDf.dtypes, df.dtypes)\n",
    "\n",
    "status = {'message': 'Processing new data',\n",
    " 'isDataAvailable': True,\n",
    " 'isTriggerActive': True}\n",
    "\n",
    "assert query.status == status, \"the status was expected to be %s but it was %s\" % (status, query.status)\n",
    "\n",
    "assert df.count() == 0, \"the number of rows was expected to be 0 when the streaming just started but it was %s\" % df.count()\n",
    "time.sleep(20)\n",
    "assert df.count() == 5, \"the number of rows was expected to be 5 when the streaming has been going for a while but it was %s\" % df.count()\n",
    "\n",
    "df = df.toPandas()\n",
    "\n",
    "assert df.loc[0][1] >= df.loc[1][1], \"the first item was expected to have higher count than the second\"\n",
    "assert df.loc[3][1] >= df.loc[4][1], \"the fourth item was expected to have higher count than the last\"\n",
    "assert df.loc[0][0] == \"Rabbit\" or df.loc[0][0] == \"Squirrel\", \"the first item was expected to be Rabbit or Squirrel but it was %s\" % df.loc[0][0]\n",
    "assert df.loc[4][0] == \"Wolf\" or df.loc[4][0] == \"Bear\", \"the last item was expected to be Wolf or Bear but it was %s\" % df.loc[4][0]\n"
   ]
  },
  {
   "cell_type": "code",
   "execution_count": null,
   "metadata": {
    "deletable": false,
    "editable": false,
    "nbgrader": {
     "cell_type": "code",
     "checksum": "504461426fe60ca9704421bac62b70d0",
     "grade": true,
     "grade_id": "cell-7ba6d4077300543d",
     "locked": true,
     "points": 0,
     "schema_version": 3,
     "solution": false,
     "task": false
    }
   },
   "outputs": [],
   "source": [
    "# stream printing in real-time\n",
    "# you can increase the total streaming simulation duration by increasing \"nIter\"\n",
    "# However, when finally submitting the assignment make sure to change \"nIter\" back to a smaller value. \n",
    "nIter = 5\n",
    "for i in range(nIter):\n",
    "    clear_output(wait=True)\n",
    "    display(query.status)\n",
    "    display()\n",
    "    time.sleep(3)"
   ]
  },
  {
   "cell_type": "code",
   "execution_count": null,
   "metadata": {
    "deletable": false,
    "editable": false,
    "nbgrader": {
     "cell_type": "code",
     "checksum": "47116ae6f1cfe0c1e990a90669d80141",
     "grade": false,
     "grade_id": "cell-dd5b6197b17972e4",
     "locked": true,
     "schema_version": 3,
     "solution": false,
     "task": false
    }
   },
   "outputs": [],
   "source": [
    "spark.stop()"
   ]
  }
 ],
 "metadata": {
  "kernelspec": {
   "display_name": "Python 3",
   "language": "python",
   "name": "python3"
  },
  "language_info": {
   "codemirror_mode": {
    "name": "ipython",
    "version": 3
   },
   "file_extension": ".py",
   "mimetype": "text/x-python",
   "name": "python",
   "nbconvert_exporter": "python",
   "pygments_lexer": "ipython3",
   "version": "3.8.3"
  }
 },
 "nbformat": 4,
 "nbformat_minor": 4
}
